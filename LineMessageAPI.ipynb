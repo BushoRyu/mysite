{
 "cells": [
  {
   "cell_type": "code",
   "execution_count": 3,
   "id": "9a1ba729-6422-4063-ba73-054bb5bfdbc8",
   "metadata": {},
   "outputs": [
    {
     "name": "stdout",
     "output_type": "stream",
     "text": [
      "Collecting line-bot-sdk\n",
      "  Downloading line_bot_sdk-2.0.1-py2.py3-none-any.whl (83 kB)\n",
      "     |████████████████████████████████| 83 kB 1.9 MB/s             \n",
      "\u001b[?25hCollecting future\n",
      "  Downloading future-0.18.2.tar.gz (829 kB)\n",
      "     |████████████████████████████████| 829 kB 9.4 MB/s            \n",
      "\u001b[?25h  Preparing metadata (setup.py) ... \u001b[?25ldone\n",
      "\u001b[?25hCollecting aiohttp>=3.7.4\n",
      "  Downloading aiohttp-3.8.0-cp39-cp39-macosx_10_9_x86_64.whl (591 kB)\n",
      "     |████████████████████████████████| 591 kB 8.5 MB/s            \n",
      "\u001b[?25hRequirement already satisfied: requests>=2.0 in /Library/Frameworks/Python.framework/Versions/3.9/lib/python3.9/site-packages (from line-bot-sdk) (2.26.0)\n",
      "Requirement already satisfied: charset-normalizer<3.0,>=2.0 in /Library/Frameworks/Python.framework/Versions/3.9/lib/python3.9/site-packages (from aiohttp>=3.7.4->line-bot-sdk) (2.0.7)\n",
      "Collecting async-timeout<5.0,>=4.0.0a3\n",
      "  Downloading async_timeout-4.0.0-py3-none-any.whl (6.1 kB)\n",
      "Collecting aiosignal>=1.1.2\n",
      "  Downloading aiosignal-1.2.0-py3-none-any.whl (8.2 kB)\n",
      "Collecting yarl<2.0,>=1.0\n",
      "  Downloading yarl-1.7.2-cp39-cp39-macosx_10_9_x86_64.whl (121 kB)\n",
      "     |████████████████████████████████| 121 kB 5.0 MB/s            \n",
      "\u001b[?25hCollecting frozenlist>=1.1.1\n",
      "  Downloading frozenlist-1.2.0-cp39-cp39-macosx_10_9_x86_64.whl (81 kB)\n",
      "     |████████████████████████████████| 81 kB 6.9 MB/s             \n",
      "\u001b[?25hRequirement already satisfied: attrs>=17.3.0 in /Library/Frameworks/Python.framework/Versions/3.9/lib/python3.9/site-packages (from aiohttp>=3.7.4->line-bot-sdk) (21.2.0)\n",
      "Collecting multidict<7.0,>=4.5\n",
      "  Downloading multidict-5.2.0-cp39-cp39-macosx_10_9_x86_64.whl (45 kB)\n",
      "     |████████████████████████████████| 45 kB 4.3 MB/s             \n",
      "\u001b[?25hRequirement already satisfied: idna<4,>=2.5 in /Library/Frameworks/Python.framework/Versions/3.9/lib/python3.9/site-packages (from requests>=2.0->line-bot-sdk) (3.3)\n",
      "Requirement already satisfied: certifi>=2017.4.17 in /Library/Frameworks/Python.framework/Versions/3.9/lib/python3.9/site-packages (from requests>=2.0->line-bot-sdk) (2021.10.8)\n",
      "Requirement already satisfied: urllib3<1.27,>=1.21.1 in /Library/Frameworks/Python.framework/Versions/3.9/lib/python3.9/site-packages (from requests>=2.0->line-bot-sdk) (1.26.7)\n",
      "Collecting typing-extensions>=3.6.5\n",
      "  Downloading typing_extensions-3.10.0.2-py3-none-any.whl (26 kB)\n",
      "Building wheels for collected packages: future\n",
      "  Building wheel for future (setup.py) ... \u001b[?25ldone\n",
      "\u001b[?25h  Created wheel for future: filename=future-0.18.2-py3-none-any.whl size=491059 sha256=d8d3c98c9dd2e3cfb13c1184965fc86aca0350bf2c89c607b92adcb141602bed\n",
      "  Stored in directory: /Users/suzukiryuto/Library/Caches/pip/wheels/2f/a0/d3/4030d9f80e6b3be787f19fc911b8e7aa462986a40ab1e4bb94\n",
      "Successfully built future\n",
      "Installing collected packages: typing-extensions, multidict, frozenlist, yarl, async-timeout, aiosignal, future, aiohttp, line-bot-sdk\n",
      "Successfully installed aiohttp-3.8.0 aiosignal-1.2.0 async-timeout-4.0.0 frozenlist-1.2.0 future-0.18.2 line-bot-sdk-2.0.1 multidict-5.2.0 typing-extensions-3.10.0.2 yarl-1.7.2\n"
     ]
    }
   ],
   "source": [
    "!pip install  line-bot-sdk"
   ]
  },
  {
   "cell_type": "code",
   "execution_count": 1,
   "id": "a590840a-720e-4b2b-ab0b-67ae6281a355",
   "metadata": {},
   "outputs": [],
   "source": [
    "import json"
   ]
  },
  {
   "cell_type": "code",
   "execution_count": 4,
   "id": "213878bd-e354-4aa5-9ad5-4f56b724a88d",
   "metadata": {},
   "outputs": [],
   "source": [
    "file = open('info.json','r')\n",
    "info = json.load(file)"
   ]
  },
  {
   "cell_type": "code",
   "execution_count": 6,
   "id": "fec249d8-e566-478f-b43f-19e3bcb11920",
   "metadata": {},
   "outputs": [
    {
     "data": {
      "text/plain": [
       "'chV2W6QHdbjRk4KPheT7ZEDo94JIK8S5aVZtzURV/3daxn00uMfFesgZmm9ublnOO/spdU4R0xf/4YEkh40qUeB0xJLe9VyRJicMgu+8Lhd07FLHex2STZjs29BhoN2nUETzukzA5TvKGUjkfWuz6QdB04t89/1O/w1cDnyilFU='"
      ]
     },
     "execution_count": 6,
     "metadata": {},
     "output_type": "execute_result"
    }
   ],
   "source": [
    "# info[\"CHANNEL_ACCESS_TOKEN\"]"
   ]
  },
  {
   "cell_type": "code",
   "execution_count": 7,
   "id": "1fc1abc7-f5af-4b4f-b888-d1b9aef5a825",
   "metadata": {},
   "outputs": [],
   "source": [
    "from linebot import LineBotApi\n",
    "from linebot.models import TextSendMessage"
   ]
  },
  {
   "cell_type": "code",
   "execution_count": 8,
   "id": "753e2bc6-0349-4a13-869f-19c346bb1596",
   "metadata": {},
   "outputs": [],
   "source": [
    "CHANNEL_ACCESS_TOKEN = info[\"CHANNEL_ACCESS_TOKEN\"]\n",
    "line_bot_api = LineBotApi(CHANNEL_ACCESS_TOKEN)"
   ]
  },
  {
   "cell_type": "code",
   "execution_count": 17,
   "id": "09f6b024-e5c8-454d-b926-971364e0bdb7",
   "metadata": {},
   "outputs": [],
   "source": [
    "def main():\n",
    "    USER_ID = info[\"USER_ID\"]\n",
    "    messages = TextSendMessage(text=\"おはよう〜！ \\n あああああ\")\n",
    "    line_bot_api.push_message(USER_ID, messages=messages)\n",
    "    \n",
    "if __name__ == \"__main__\":\n",
    "    main()"
   ]
  }
 ],
 "metadata": {
  "kernelspec": {
   "display_name": "Python 3 (ipykernel)",
   "language": "python",
   "name": "python3"
  },
  "language_info": {
   "codemirror_mode": {
    "name": "ipython",
    "version": 3
   },
   "file_extension": ".py",
   "mimetype": "text/x-python",
   "name": "python",
   "nbconvert_exporter": "python",
   "pygments_lexer": "ipython3",
   "version": "3.9.6"
  }
 },
 "nbformat": 4,
 "nbformat_minor": 5
}
