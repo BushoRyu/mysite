{
 "cells": [
  {
   "cell_type": "code",
   "execution_count": 3,
   "id": "9a1ba729-6422-4063-ba73-054bb5bfdbc8",
   "metadata": {},
   "outputs": [
    {
     "name": "stdout",
     "output_type": "stream",
     "text": [
      "Collecting line-bot-sdk\n",
      "  Downloading line_bot_sdk-2.0.1-py2.py3-none-any.whl (83 kB)\n",
      "     |████████████████████████████████| 83 kB 1.9 MB/s             \n",
      "\u001b[?25hCollecting future\n",
      "  Downloading future-0.18.2.tar.gz (829 kB)\n",
      "     |████████████████████████████████| 829 kB 9.4 MB/s            \n",
      "\u001b[?25h  Preparing metadata (setup.py) ... \u001b[?25ldone\n",
      "\u001b[?25hCollecting aiohttp>=3.7.4\n",
      "  Downloading aiohttp-3.8.0-cp39-cp39-macosx_10_9_x86_64.whl (591 kB)\n",
      "     |████████████████████████████████| 591 kB 8.5 MB/s            \n",
      "\u001b[?25hRequirement already satisfied: requests>=2.0 in /Library/Frameworks/Python.framework/Versions/3.9/lib/python3.9/site-packages (from line-bot-sdk) (2.26.0)\n",
      "Requirement already satisfied: charset-normalizer<3.0,>=2.0 in /Library/Frameworks/Python.framework/Versions/3.9/lib/python3.9/site-packages (from aiohttp>=3.7.4->line-bot-sdk) (2.0.7)\n",
      "Collecting async-timeout<5.0,>=4.0.0a3\n",
      "  Downloading async_timeout-4.0.0-py3-none-any.whl (6.1 kB)\n",
      "Collecting aiosignal>=1.1.2\n",
      "  Downloading aiosignal-1.2.0-py3-none-any.whl (8.2 kB)\n",
      "Collecting yarl<2.0,>=1.0\n",
      "  Downloading yarl-1.7.2-cp39-cp39-macosx_10_9_x86_64.whl (121 kB)\n",
      "     |████████████████████████████████| 121 kB 5.0 MB/s            \n",
      "\u001b[?25hCollecting frozenlist>=1.1.1\n",
      "  Downloading frozenlist-1.2.0-cp39-cp39-macosx_10_9_x86_64.whl (81 kB)\n",
      "     |████████████████████████████████| 81 kB 6.9 MB/s             \n",
      "\u001b[?25hRequirement already satisfied: attrs>=17.3.0 in /Library/Frameworks/Python.framework/Versions/3.9/lib/python3.9/site-packages (from aiohttp>=3.7.4->line-bot-sdk) (21.2.0)\n",
      "Collecting multidict<7.0,>=4.5\n",
      "  Downloading multidict-5.2.0-cp39-cp39-macosx_10_9_x86_64.whl (45 kB)\n",
      "     |████████████████████████████████| 45 kB 4.3 MB/s             \n",
      "\u001b[?25hRequirement already satisfied: idna<4,>=2.5 in /Library/Frameworks/Python.framework/Versions/3.9/lib/python3.9/site-packages (from requests>=2.0->line-bot-sdk) (3.3)\n",
      "Requirement already satisfied: certifi>=2017.4.17 in /Library/Frameworks/Python.framework/Versions/3.9/lib/python3.9/site-packages (from requests>=2.0->line-bot-sdk) (2021.10.8)\n",
      "Requirement already satisfied: urllib3<1.27,>=1.21.1 in /Library/Frameworks/Python.framework/Versions/3.9/lib/python3.9/site-packages (from requests>=2.0->line-bot-sdk) (1.26.7)\n",
      "Collecting typing-extensions>=3.6.5\n",
      "  Downloading typing_extensions-3.10.0.2-py3-none-any.whl (26 kB)\n",
      "Building wheels for collected packages: future\n",
      "  Building wheel for future (setup.py) ... \u001b[?25ldone\n",
      "\u001b[?25h  Created wheel for future: filename=future-0.18.2-py3-none-any.whl size=491059 sha256=d8d3c98c9dd2e3cfb13c1184965fc86aca0350bf2c89c607b92adcb141602bed\n",
      "  Stored in directory: /Users/suzukiryuto/Library/Caches/pip/wheels/2f/a0/d3/4030d9f80e6b3be787f19fc911b8e7aa462986a40ab1e4bb94\n",
      "Successfully built future\n",
      "Installing collected packages: typing-extensions, multidict, frozenlist, yarl, async-timeout, aiosignal, future, aiohttp, line-bot-sdk\n",
      "Successfully installed aiohttp-3.8.0 aiosignal-1.2.0 async-timeout-4.0.0 frozenlist-1.2.0 future-0.18.2 line-bot-sdk-2.0.1 multidict-5.2.0 typing-extensions-3.10.0.2 yarl-1.7.2\n"
     ]
    }
   ],
   "source": [
    "!pip install  line-bot-sdk"
   ]
  },
  {
   "cell_type": "code",
   "execution_count": 1,
   "id": "a590840a-720e-4b2b-ab0b-67ae6281a355",
   "metadata": {},
   "outputs": [],
   "source": [
    "import json"
   ]
  },
  {
   "cell_type": "code",
   "execution_count": 4,
   "id": "213878bd-e354-4aa5-9ad5-4f56b724a88d",
   "metadata": {},
   "outputs": [],
   "source": [
    "file = open('info.json','r')\n",
    "info = json.load(file)"
   ]
  },
  {
   "cell_type": "code",
   "execution_count": 6,
   "id": "fec249d8-e566-478f-b43f-19e3bcb11920",
   "metadata": {},
   "outputs": [
    {
     "data": {
      "text/plain": [
       "'chV2W6QHdbjRk4KPheT7ZEDo94JIK8S5aVZtzURV/3daxn00uMfFesgZmm9ublnOO/spdU4R0xf/4YEkh40qUeB0xJLe9VyRJicMgu+8Lhd07FLHex2STZjs29BhoN2nUETzukzA5TvKGUjkfWuz6QdB04t89/1O/w1cDnyilFU='"
      ]
     },
     "execution_count": 6,
     "metadata": {},
     "output_type": "execute_result"
    }
   ],
   "source": [
    "# info[\"CHANNEL_ACCESS_TOKEN\"]"
   ]
  },
  {
   "cell_type": "code",
   "execution_count": 7,
   "id": "1fc1abc7-f5af-4b4f-b888-d1b9aef5a825",
   "metadata": {},
   "outputs": [],
   "source": [
    "from linebot import LineBotApi\n",
    "from linebot.models import TextSendMessage"
   ]
  },
  {
   "cell_type": "code",
   "execution_count": 8,
   "id": "753e2bc6-0349-4a13-869f-19c346bb1596",
   "metadata": {},
   "outputs": [],
   "source": [
    "CHANNEL_ACCESS_TOKEN = info[\"CHANNEL_ACCESS_TOKEN\"]\n",
    "line_bot_api = LineBotApi(CHANNEL_ACCESS_TOKEN)"
   ]
  },
  {
   "cell_type": "code",
   "execution_count": 17,
   "id": "09f6b024-e5c8-454d-b926-971364e0bdb7",
   "metadata": {},
   "outputs": [],
   "source": [
    "def main():\n",
    "    USER_ID = info[\"USER_ID\"]\n",
    "    messages = TextSendMessage(text=\"おはよう〜！ \\n あああああ\")\n",
    "    line_bot_api.push_message(USER_ID, messages=messages)\n",
    "    \n",
    "if __name__ == \"__main__\":\n",
    "    main()"
   ]
  },
  {
   "cell_type": "code",
   "execution_count": 18,
   "id": "7146054d-0588-4fbb-b0b5-137c28e90425",
   "metadata": {},
   "outputs": [
    {
     "ename": "SyntaxError",
     "evalue": "invalid syntax (4071044290.py, line 1)",
     "output_type": "error",
     "traceback": [
      "\u001b[0;36m  File \u001b[0;32m\"/var/folders/6h/jlcdqw0x675drx2qgc9w1bfw0000gn/T/ipykernel_25115/4071044290.py\"\u001b[0;36m, line \u001b[0;32m1\u001b[0m\n\u001b[0;31m    sudo pip install BeautifulSoup4\u001b[0m\n\u001b[0m         ^\u001b[0m\n\u001b[0;31mSyntaxError\u001b[0m\u001b[0;31m:\u001b[0m invalid syntax\n"
     ]
    }
   ],
   "source": []
  },
  {
   "cell_type": "code",
   "execution_count": 19,
   "id": "334953f2-3425-42b3-85bb-19294c3eab4e",
   "metadata": {},
   "outputs": [
    {
     "ename": "ModuleNotFoundError",
     "evalue": "No module named 'bs4'",
     "output_type": "error",
     "traceback": [
      "\u001b[0;31m---------------------------------------------------------------------------\u001b[0m",
      "\u001b[0;31mModuleNotFoundError\u001b[0m                       Traceback (most recent call last)",
      "\u001b[0;32m/var/folders/6h/jlcdqw0x675drx2qgc9w1bfw0000gn/T/ipykernel_25115/3209210310.py\u001b[0m in \u001b[0;36m<module>\u001b[0;34m\u001b[0m\n\u001b[1;32m      1\u001b[0m \u001b[0;32mimport\u001b[0m \u001b[0mrequests\u001b[0m\u001b[0;34m\u001b[0m\u001b[0;34m\u001b[0m\u001b[0m\n\u001b[0;32m----> 2\u001b[0;31m \u001b[0;32mfrom\u001b[0m \u001b[0mbs4\u001b[0m \u001b[0;32mimport\u001b[0m \u001b[0mBeautifulSoup\u001b[0m\u001b[0;34m\u001b[0m\u001b[0;34m\u001b[0m\u001b[0m\n\u001b[0m\u001b[1;32m      3\u001b[0m \u001b[0;31m# Webページを取得して解析する\u001b[0m\u001b[0;34m\u001b[0m\u001b[0;34m\u001b[0m\u001b[0;34m\u001b[0m\u001b[0m\n\u001b[1;32m      4\u001b[0m \u001b[0;34m\u001b[0m\u001b[0m\n\u001b[1;32m      5\u001b[0m \u001b[0mload_url\u001b[0m \u001b[0;34m=\u001b[0m \u001b[0;34m\"https://bushoryu.github.io/busho_ryu/infoTab.html\"\u001b[0m\u001b[0;34m\u001b[0m\u001b[0;34m\u001b[0m\u001b[0m\n",
      "\u001b[0;31mModuleNotFoundError\u001b[0m: No module named 'bs4'"
     ]
    }
   ],
   "source": [
    "import requests\n",
    "from bs4 import BeautifulSoup\n",
    "# Webページを取得して解析する\n",
    "\n",
    "load_url = \"https://bushoryu.github.io/busho_ryu/infoTab.html\"\n",
    "html = requests.get(load_url)\n",
    "soup = BeautifulSoup(html.content, \"html.parser\")\n",
    "\n",
    "# HTML全体を表示する\n",
    "print(soup)"
   ]
  },
  {
   "cell_type": "code",
   "execution_count": 20,
   "id": "3a93c517-b7f3-42f2-8c1a-fbaa079d58a4",
   "metadata": {},
   "outputs": [
    {
     "name": "stdout",
     "output_type": "stream",
     "text": [
      "Collecting BeautifulSoup4\n",
      "  Downloading beautifulsoup4-4.10.0-py3-none-any.whl (97 kB)\n",
      "     |████████████████████████████████| 97 kB 3.9 MB/s             \n",
      "\u001b[?25hCollecting soupsieve>1.2\n",
      "  Downloading soupsieve-2.3-py3-none-any.whl (37 kB)\n",
      "Installing collected packages: soupsieve, BeautifulSoup4\n",
      "Successfully installed BeautifulSoup4-4.10.0 soupsieve-2.3\n",
      "Note: you may need to restart the kernel to use updated packages.\n"
     ]
    }
   ],
   "source": [
    "pip install BeautifulSoup4"
   ]
  },
  {
   "cell_type": "code",
   "execution_count": 21,
   "id": "966c78ce-6f25-40fc-9a2e-11a691b04ac4",
   "metadata": {},
   "outputs": [
    {
     "name": "stdout",
     "output_type": "stream",
     "text": [
      "<!DOCTYPE html>\n",
      "\n",
      "<html lang=\"Ja\">\n",
      "<head>\n",
      "<meta charset=\"utf-8\"/>\n",
      "<title>「武将リュウ」公式サイト</title>\n",
      "<link href=\"css/styles.css\" rel=\"stylesheet\"/>\n",
      "<script src=\"https://ajax.googleapis.com/ajax/libs/jquery/3.5.1/jquery.min.js\"></script>\n",
      "<script type=\"text/javascript\">\n",
      "        $(function(){\n",
      "            $(\"#infomation\").load(\"info.html\");\n",
      "        });\n",
      "    </script>\n",
      "</head>\n",
      "<body>\n",
      "<script src=\"js/header.js\"></script>\n",
      "<div class=\"main\">\n",
      "<div class=\"copy-container\">\n",
      "<h1>お知らせ <span> 全部</span></h1>\n",
      "<h2>一覧</h2>\n",
      "</div>\n",
      "<div class=\"infoTab contents\">\n",
      "<h3 class=\"section-title\" id=\"info0001\">お知らせ - Information</h3>\n",
      "<div class=\"contents-item\">\n",
      "<a href=\"info9.html\" target=\"_parent\"><img src=\"info-images/Card.png\"/></a>\n",
      "<dt>2021/9/18 0:28<a>報告</a></dt>\n",
      "<dd>\n",
      "<a href=\"#\">みなさまへ</a>\n",
      "</dd>\n",
      "</div>\n",
      "<!-- <div class=\"contents-item\">\n",
      "              <a href=\"info8.html\" target=\"_parent\"><img src=\"info-images/info8.png\"></a>\n",
      "              <dt>2021/7/2 23:40<a>報告</a></dt>\n",
      "              <dd>\n",
      "                <a href=\"#\">今回の騒動について</a>\n",
      "              </dd>\n",
      "            </div>  -->\n",
      "<!-- <div class=\"contents-item\">\n",
      "              <a href=\"info7.html\" target=\"_parent\"><img src=\"info-images/info7.png\"></a>\n",
      "              <dt>2021/5/31 20:00<a>動画</a></dt>\n",
      "              <dd>\n",
      "                <a href=\"#\">【謝罪】今回の騒動について</a>\n",
      "              </dd>\n",
      "            </div>  -->\n",
      "<div class=\"contents-item\">\n",
      "<a href=\"info6.html\" target=\"_parent\"><img src=\"info-images/info6.png\"/></a>\n",
      "<dt>2021/5/21 0:00<a>ゲーム</a></dt>\n",
      "<dd>\n",
      "<a href=\"#\">フレンド機能を作りました。</a>\n",
      "</dd>\n",
      "</div>\n",
      "<!-- <div class=\"contents-item\">\n",
      "              <a href=\"info5.html\" target=\"_parent\"><img src=\"info-images/info5-2.png\"></a>\n",
      "              <dt>2021/5/10 1:59<a>動画</a></dt>\n",
      "              <dd>\n",
      "                <a href=\"#\">【ついに】顔出します。</a>\n",
      "              </dd>\n",
      "            </div>   -->\n",
      "<div class=\"contents-item\">\n",
      "<a href=\"info4.html\" target=\"_parent\"><img src=\"info-images/Card.png\"/></a>\n",
      "<dt>2021/5/4 11:09</dt>\n",
      "<dd>\n",
      "<a href=\"#\">試作</a>\n",
      "</dd>\n",
      "</div>\n",
      "<div class=\"contents-item\">\n",
      "<a href=\"info3.html\" target=\"_parent\"><img src=\"info-images/Card.png\"/></a>\n",
      "<dt>2021/4/28 21:46</dt>\n",
      "<dd>\n",
      "<a href=\"#\">久しぶりに見てみた</a>\n",
      "</dd>\n",
      "</div>\n",
      "<div class=\"contents-item\">\n",
      "<a href=\"info2.html\" target=\"_parent\"><img src=\"info-images/Card.png\"/></a>\n",
      "<dt>2020/8/11 0:00</dt>\n",
      "<dd>\n",
      "<a href=\"#\">ホームページ制作中...</a>\n",
      "</dd>\n",
      "</div>\n",
      "<div class=\"contents-item\">\n",
      "<a href=\"info1.html\" target=\"_parent\"><img src=\"info-images/Card.png\"/></a>\n",
      "<dt>2020/8/10 0:00</dt>\n",
      "<dd>\n",
      "<a href=\"#\">ホームページが始動しました。</a>\n",
      "</dd>\n",
      "</div>\n",
      "</div>\n",
      "</div>\n",
      "<script src=\"js/footer.js\" type=\"text/javascript\"></script>\n",
      "<script src=\"js/styles.js\" type=\"text/javascript\"></script>\n",
      "</body>\n",
      "</html>\n"
     ]
    }
   ],
   "source": [
    "import requests\n",
    "from bs4 import BeautifulSoup\n",
    "# Webページを取得して解析する\n",
    "\n",
    "load_url = \"https://bushoryu.github.io/busho_ryu/infoTab.html\"\n",
    "html = requests.get(load_url)\n",
    "soup = BeautifulSoup(html.content, \"html.parser\")\n",
    "\n",
    "# HTML全体を表示する\n",
    "print(soup)"
   ]
  },
  {
   "cell_type": "code",
   "execution_count": 22,
   "id": "0ec8c524-c639-4787-a165-ed181b1dcbec",
   "metadata": {},
   "outputs": [
    {
     "name": "stdout",
     "output_type": "stream",
     "text": [
      "[<a href=\"info9.html\" target=\"_parent\"><img src=\"info-images/Card.png\"/></a>, <a>報告</a>, <a href=\"#\">みなさまへ</a>, <a href=\"info6.html\" target=\"_parent\"><img src=\"info-images/info6.png\"/></a>, <a>ゲーム</a>, <a href=\"#\">フレンド機能を作りました。</a>, <a href=\"info4.html\" target=\"_parent\"><img src=\"info-images/Card.png\"/></a>, <a href=\"#\">試作</a>, <a href=\"info3.html\" target=\"_parent\"><img src=\"info-images/Card.png\"/></a>, <a href=\"#\">久しぶりに見てみた</a>, <a href=\"info2.html\" target=\"_parent\"><img src=\"info-images/Card.png\"/></a>, <a href=\"#\">ホームページ制作中...</a>, <a href=\"info1.html\" target=\"_parent\"><img src=\"info-images/Card.png\"/></a>, <a href=\"#\">ホームページが始動しました。</a>]\n"
     ]
    }
   ],
   "source": [
    "print(soup.find_all(\"a\"))"
   ]
  },
  {
   "cell_type": "code",
   "execution_count": 23,
   "id": "2327ad9e-71c6-4b9d-ab07-27a35c3c49c1",
   "metadata": {},
   "outputs": [
    {
     "name": "stdout",
     "output_type": "stream",
     "text": [
      "[<dt>2021/9/18 0:28<a>報告</a></dt>, <dt>2021/5/21 0:00<a>ゲーム</a></dt>, <dt>2021/5/4 11:09</dt>, <dt>2021/4/28 21:46</dt>, <dt>2020/8/11 0:00</dt>, <dt>2020/8/10 0:00</dt>]\n"
     ]
    }
   ],
   "source": [
    "print(soup.find_all(\"dt\"))"
   ]
  },
  {
   "cell_type": "code",
   "execution_count": 26,
   "id": "29427a5f-19f8-4c24-bbc0-75d6f732bf60",
   "metadata": {},
   "outputs": [
    {
     "name": "stdout",
     "output_type": "stream",
     "text": [
      "[<dd>\n",
      "<a href=\"#\">みなさまへ</a>\n",
      "</dd>, <dd>\n",
      "<a href=\"#\">フレンド機能を作りました。</a>\n",
      "</dd>, <dd>\n",
      "<a href=\"#\">試作</a>\n",
      "</dd>, <dd>\n",
      "<a href=\"#\">久しぶりに見てみた</a>\n",
      "</dd>, <dd>\n",
      "<a href=\"#\">ホームページ制作中...</a>\n",
      "</dd>, <dd>\n",
      "<a href=\"#\">ホームページが始動しました。</a>\n",
      "</dd>]\n"
     ]
    }
   ],
   "source": [
    "print(soup.find_all(\"dd\"))"
   ]
  },
  {
   "cell_type": "code",
   "execution_count": null,
   "id": "8b4546b0-4037-4790-ab91-4856237e2e8e",
   "metadata": {},
   "outputs": [],
   "source": []
  },
  {
   "cell_type": "code",
   "execution_count": 29,
   "id": "ad24a601-84a8-4dd9-ba89-f6217ec707f8",
   "metadata": {},
   "outputs": [
    {
     "name": "stdout",
     "output_type": "stream",
     "text": [
      "\n",
      "『みなさまへ』\n",
      "\n",
      "\n",
      "『フレンド機能を作りました。』\n",
      "\n",
      "\n",
      "『試作』\n",
      "\n",
      "\n",
      "『久しぶりに見てみた』\n",
      "\n",
      "\n",
      "『ホームページ制作中...』\n",
      "\n",
      "\n",
      "『ホームページが始動しました。』\n",
      "\n"
     ]
    }
   ],
   "source": [
    "import requests\n",
    "from bs4 import BeautifulSoup\n",
    "# Webページを取得して解析する\n",
    "\n",
    "load_url = \"https://bushoryu.github.io/busho_ryu/infoTab.html\"\n",
    "html = requests.get(load_url)\n",
    "soup = BeautifulSoup(html.content, \"html.parser\")\n",
    "\n",
    "for element in soup.find_all(\"dd\"):    # すべてのaタグを検索して表示\n",
    "    if \"『\" and \"』\" in element.text:\n",
    "        print(element.text)"
   ]
  },
  {
   "cell_type": "code",
   "execution_count": 81,
   "id": "e60336d5-5515-4ecb-9af0-c3a0b200df49",
   "metadata": {},
   "outputs": [
    {
     "name": "stdout",
     "output_type": "stream",
     "text": [
      "ng\n"
     ]
    }
   ],
   "source": [
    "import json\n",
    "from linebot import LineBotApi\n",
    "from linebot.models import TextSendMessage\n",
    "import requests\n",
    "from bs4 import BeautifulSoup\n",
    "import os\n",
    "\n",
    "file = open('info.json','r')\n",
    "info = json.load(file)\n",
    "\n",
    "CHANNEL_ACCESS_TOKEN = info[\"CHANNEL_ACCESS_TOKEN\"]\n",
    "line_bot_api = LineBotApi(CHANNEL_ACCESS_TOKEN)\n",
    "\n",
    "def get_latest_ep():#話数を取得\n",
    "    load_url = \"https://bushoryu.github.io/busho_ryu/infoTab.html\"\n",
    "    html = requests.get(load_url)\n",
    "    soup = BeautifulSoup(html.content, \"html.parser\")\n",
    "\n",
    "    for element in soup.find_all(\"dd\"):    # すべてのaタグを検索して表示\n",
    "        if \"『\" and \"』\" in element.text:\n",
    "            latest_ep = element.text\n",
    "        return latest_ep\n",
    "\n",
    "def send_line(texts):#ライン送信\n",
    "    USER_ID = info[\"USER_ID\"]\n",
    "    messages = TextSendMessage(text=\"お知らせが来ました！\"+texts+\"https://bushoryu.github.io/busho_ryu/infoTab.html\")\n",
    "    line_bot_api.push_message(USER_ID, messages=messages)\n",
    "    \n",
    "def log_check(content):#最新話かどうか判定\n",
    "    logfile_name = \"onepunch_log.txt\"\n",
    "    if not os.path.exists(\"./\"+logfile_name):#ログファイルの存在を確認\n",
    "        file = open(logfile_name, 'w')#なければ作る\n",
    "    file = open(logfile_name, 'r')#読み取りでファイルを開く\n",
    "    if file.read() == content:\n",
    "        checker = False\n",
    "        print(\"ng\")\n",
    "    else:\n",
    "        checker = True\n",
    "        file = open(logfile_name, 'w')\n",
    "        file.write(content)\n",
    "        file.close()   \n",
    "        print(content)\n",
    "\n",
    "    return checker\n",
    "\n",
    "if __name__ == \"__main__\":\n",
    "    latest_episode = get_latest_ep()\n",
    "    if log_check(latest_episode):\n",
    "        send_line(latest_episode)"
   ]
  },
  {
   "cell_type": "code",
   "execution_count": 82,
   "id": "3ee5c079-5f66-4908-b903-c227c74d5130",
   "metadata": {},
   "outputs": [
    {
     "name": "stdout",
     "output_type": "stream",
     "text": [
      "\n",
      "『ホームページが始動しました。』\n",
      "\n"
     ]
    }
   ],
   "source": [
    "import requests\n",
    "from bs4 import BeautifulSoup\n",
    "\n",
    "load_url = \"https://bushoryu.github.io/busho_ryu/infoTab.html\"\n",
    "html = requests.get(load_url)\n",
    "soup = BeautifulSoup(html.content, \"html.parser\")\n",
    "\n",
    "for element in soup.find_all(\"dd\"):    # すべてのaタグを検索して表示\n",
    "    if \"『\" and \"』\" in element.text:\n",
    "        latest_ep = element.text\n",
    "print(latest_ep)"
   ]
  },
  {
   "cell_type": "code",
   "execution_count": 83,
   "id": "00d65432-0f3e-4720-8e7a-475502fccc9c",
   "metadata": {},
   "outputs": [
    {
     "name": "stdout",
     "output_type": "stream",
     "text": [
      "\n",
      "『みなさまへ』\n",
      "\n",
      "\n",
      "『フレンド機能を作りました。』\n",
      "\n",
      "\n",
      "『試作』\n",
      "\n",
      "\n",
      "『久しぶりに見てみた』\n",
      "\n",
      "\n",
      "『ホームページ制作中...』\n",
      "\n",
      "\n",
      "『ホームページが始動しました。』\n",
      "\n"
     ]
    }
   ],
   "source": [
    "import requests\n",
    "from bs4 import BeautifulSoup\n",
    "# Webページを取得して解析する\n",
    "\n",
    "load_url = \"https://bushoryu.github.io/busho_ryu/infoTab.html\"\n",
    "html = requests.get(load_url)\n",
    "soup = BeautifulSoup(html.content, \"html.parser\")\n",
    "\n",
    "for element in soup.find_all(\"dd\"):    # すべてのaタグを検索して表示\n",
    "    if \"『\" and \"』\" in element.text:\n",
    "        latest_ep = element.text\n",
    "    print(latest_ep)"
   ]
  },
  {
   "cell_type": "code",
   "execution_count": null,
   "id": "e468ca0a-218a-459b-8c42-c2ff0087df9f",
   "metadata": {},
   "outputs": [],
   "source": []
  },
  {
   "cell_type": "code",
   "execution_count": 84,
   "id": "90e354fd-9bf1-4910-a2a2-ece5a6bce7fb",
   "metadata": {},
   "outputs": [
    {
     "ename": "NameError",
     "evalue": "name 'HPReload' is not defined",
     "output_type": "error",
     "traceback": [
      "\u001b[0;31m---------------------------------------------------------------------------\u001b[0m",
      "\u001b[0;31mNameError\u001b[0m                                 Traceback (most recent call last)",
      "\u001b[0;32m/var/folders/6h/jlcdqw0x675drx2qgc9w1bfw0000gn/T/ipykernel_25115/1420025711.py\u001b[0m in \u001b[0;36m<module>\u001b[0;34m\u001b[0m\n\u001b[0;32m----> 1\u001b[0;31m \u001b[0mHPReload\u001b[0m\u001b[0;34m.\u001b[0m\u001b[0mpy\u001b[0m\u001b[0;34m\u001b[0m\u001b[0;34m\u001b[0m\u001b[0m\n\u001b[0m",
      "\u001b[0;31mNameError\u001b[0m: name 'HPReload' is not defined"
     ]
    }
   ],
   "source": [
    "HPReload.py"
   ]
  },
  {
   "cell_type": "code",
   "execution_count": 98,
   "id": "d5fd305f-5964-47ba-beca-198530e1d8a0",
   "metadata": {},
   "outputs": [
    {
     "name": "stdout",
     "output_type": "stream",
     "text": [
      "ng\n"
     ]
    }
   ],
   "source": [
    "run HPReload.py"
   ]
  },
  {
   "cell_type": "code",
   "execution_count": 105,
   "id": "0a8512d3-e624-4c45-a021-0193f2181790",
   "metadata": {},
   "outputs": [
    {
     "name": "stdout",
     "output_type": "stream",
     "text": [
      "『ホームページ制作中...』\n"
     ]
    }
   ],
   "source": [
    "import requests\n",
    "from bs4 import BeautifulSoup\n",
    "import os\n",
    "\n",
    "load_url = \"https://bushoryu.github.io/busho_ryu/infoTab.html\"\n",
    "html = requests.get(load_url)\n",
    "soup = BeautifulSoup(html.content, \"html.parser\")\n",
    "for element in soup.find_all(\"a\"):    # すべてのaタグを検索して表示\n",
    "    if \"info\" and \".\" in element.text:\n",
    "        latest_no = element.text\n",
    "        print(latest_no)"
   ]
  },
  {
   "cell_type": "code",
   "execution_count": null,
   "id": "473a6984-c1c2-4bb1-aa33-13ecae092bfc",
   "metadata": {},
   "outputs": [],
   "source": []
  },
  {
   "cell_type": "code",
   "execution_count": null,
   "id": "7cc066de-0ffd-4c00-9b6b-4d0ecaf0d0f4",
   "metadata": {},
   "outputs": [],
   "source": []
  },
  {
   "cell_type": "code",
   "execution_count": null,
   "id": "86eb0439-9066-4bab-a82a-4ca106467dc4",
   "metadata": {},
   "outputs": [],
   "source": []
  }
 ],
 "metadata": {
  "kernelspec": {
   "display_name": "Python 3 (ipykernel)",
   "language": "python",
   "name": "python3"
  },
  "language_info": {
   "codemirror_mode": {
    "name": "ipython",
    "version": 3
   },
   "file_extension": ".py",
   "mimetype": "text/x-python",
   "name": "python",
   "nbconvert_exporter": "python",
   "pygments_lexer": "ipython3",
   "version": "3.9.6"
  }
 },
 "nbformat": 4,
 "nbformat_minor": 5
}
